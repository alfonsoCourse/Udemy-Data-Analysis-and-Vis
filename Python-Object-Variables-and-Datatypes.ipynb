{
 "cells": [
  {
   "cell_type": "code",
   "execution_count": 1,
   "id": "cd1a4159",
   "metadata": {},
   "outputs": [],
   "source": [
    "# type(), will let you know the type of the variablea"
   ]
  },
  {
   "cell_type": "code",
   "execution_count": 2,
   "id": "88a6c281",
   "metadata": {},
   "outputs": [
    {
     "data": {
      "text/plain": [
       "str"
      ]
     },
     "execution_count": 2,
     "metadata": {},
     "output_type": "execute_result"
    }
   ],
   "source": [
    "type(\"Hello World\")"
   ]
  },
  {
   "cell_type": "code",
   "execution_count": 3,
   "id": "e47c8f9d",
   "metadata": {},
   "outputs": [
    {
     "data": {
      "text/plain": [
       "int"
      ]
     },
     "execution_count": 3,
     "metadata": {},
     "output_type": "execute_result"
    }
   ],
   "source": [
    "type(1)"
   ]
  },
  {
   "cell_type": "code",
   "execution_count": 4,
   "id": "47c3dda7",
   "metadata": {},
   "outputs": [
    {
     "name": "stdout",
     "output_type": "stream",
     "text": [
      "Hello\n"
     ]
    }
   ],
   "source": [
    "print(\"Hello\")"
   ]
  },
  {
   "cell_type": "code",
   "execution_count": 9,
   "id": "b3766487",
   "metadata": {},
   "outputs": [],
   "source": [
    "x= \"Hello\".upper() #. + tab will give you methods"
   ]
  },
  {
   "cell_type": "code",
   "execution_count": 10,
   "id": "74529bd6",
   "metadata": {},
   "outputs": [
    {
     "data": {
      "text/plain": [
       "'HELLO'"
      ]
     },
     "execution_count": 10,
     "metadata": {},
     "output_type": "execute_result"
    }
   ],
   "source": [
    "x"
   ]
  },
  {
   "cell_type": "code",
   "execution_count": 13,
   "id": "c00a2f4f",
   "metadata": {},
   "outputs": [
    {
     "name": "stdout",
     "output_type": "stream",
     "text": [
      "Help on method_descriptor:\n",
      "\n",
      "count(...)\n",
      "    S.count(sub[, start[, end]]) -> int\n",
      "    \n",
      "    Return the number of non-overlapping occurrences of substring sub in\n",
      "    string S[start:end].  Optional arguments start and end are\n",
      "    interpreted as in slice notation.\n",
      "\n"
     ]
    }
   ],
   "source": [
    "help(str.count)"
   ]
  },
  {
   "cell_type": "code",
   "execution_count": 14,
   "id": "1eb064fb",
   "metadata": {},
   "outputs": [
    {
     "data": {
      "text/plain": [
       "4"
      ]
     },
     "execution_count": 14,
     "metadata": {},
     "output_type": "execute_result"
    }
   ],
   "source": [
    "2+2"
   ]
  },
  {
   "cell_type": "code",
   "execution_count": 15,
   "id": "287db57e",
   "metadata": {},
   "outputs": [
    {
     "data": {
      "text/plain": [
       "6"
      ]
     },
     "execution_count": 15,
     "metadata": {},
     "output_type": "execute_result"
    }
   ],
   "source": [
    "2*3"
   ]
  },
  {
   "cell_type": "code",
   "execution_count": 16,
   "id": "8a885853",
   "metadata": {},
   "outputs": [
    {
     "data": {
      "text/plain": [
       "16"
      ]
     },
     "execution_count": 16,
     "metadata": {},
     "output_type": "execute_result"
    }
   ],
   "source": [
    "2**4"
   ]
  },
  {
   "cell_type": "code",
   "execution_count": 17,
   "id": "e31a5f30",
   "metadata": {},
   "outputs": [
    {
     "data": {
      "text/plain": [
       "4.0"
      ]
     },
     "execution_count": 17,
     "metadata": {},
     "output_type": "execute_result"
    }
   ],
   "source": [
    "16**1/4"
   ]
  },
  {
   "cell_type": "markdown",
   "id": "6081e1b4",
   "metadata": {},
   "source": [
    "**String Manipulationg**\n",
    "\n",
    "\n",
    "string [index value]\n",
    "\n",
    "string[start:stop:steps]"
   ]
  },
  {
   "cell_type": "code",
   "execution_count": 37,
   "id": "a0ccf3cf",
   "metadata": {},
   "outputs": [],
   "source": [
    "x=\"Alfonso de Mata Rovey\""
   ]
  },
  {
   "cell_type": "code",
   "execution_count": 19,
   "id": "baa1e348",
   "metadata": {},
   "outputs": [
    {
     "data": {
      "text/plain": [
       "'A'"
      ]
     },
     "execution_count": 19,
     "metadata": {},
     "output_type": "execute_result"
    }
   ],
   "source": [
    "x[0] # positive integrers will start from the first letter."
   ]
  },
  {
   "cell_type": "code",
   "execution_count": 20,
   "id": "b57c47f7",
   "metadata": {},
   "outputs": [
    {
     "data": {
      "text/plain": [
       "'y'"
      ]
     },
     "execution_count": 20,
     "metadata": {},
     "output_type": "execute_result"
    }
   ],
   "source": [
    "x[-1] # negative int will start from the end. "
   ]
  },
  {
   "cell_type": "code",
   "execution_count": 23,
   "id": "f191c31f",
   "metadata": {},
   "outputs": [
    {
     "data": {
      "text/plain": [
       "' '"
      ]
     },
     "execution_count": 23,
     "metadata": {},
     "output_type": "execute_result"
    }
   ],
   "source": [
    "x[7]"
   ]
  },
  {
   "cell_type": "code",
   "execution_count": 22,
   "id": "1e96b6f5",
   "metadata": {},
   "outputs": [
    {
     "data": {
      "text/plain": [
       "'o'"
      ]
     },
     "execution_count": 22,
     "metadata": {},
     "output_type": "execute_result"
    }
   ],
   "source": [
    "x[-4]"
   ]
  },
  {
   "cell_type": "code",
   "execution_count": 26,
   "id": "4c6addf3",
   "metadata": {},
   "outputs": [
    {
     "data": {
      "text/plain": [
       "'Afnod aaRvy'"
      ]
     },
     "execution_count": 26,
     "metadata": {},
     "output_type": "execute_result"
    }
   ],
   "source": [
    "x[0::2] #characters from the beggining till the end for every two letters"
   ]
  },
  {
   "cell_type": "code",
   "execution_count": 56,
   "id": "7bd4cf73",
   "metadata": {},
   "outputs": [],
   "source": [
    "y = \"RED\""
   ]
  },
  {
   "cell_type": "code",
   "execution_count": 35,
   "id": "e8797f95",
   "metadata": {},
   "outputs": [
    {
     "data": {
      "text/plain": [
       "' 234'"
      ]
     },
     "execution_count": 35,
     "metadata": {},
     "output_type": "execute_result"
    }
   ],
   "source": []
  },
  {
   "cell_type": "code",
   "execution_count": 39,
   "id": "65fbf35a",
   "metadata": {},
   "outputs": [
    {
     "data": {
      "text/plain": [
       "'Alfonso de mata rovey'"
      ]
     },
     "execution_count": 39,
     "metadata": {},
     "output_type": "execute_result"
    }
   ],
   "source": [
    "x.capitalize()"
   ]
  },
  {
   "cell_type": "code",
   "execution_count": 44,
   "id": "61b7b96a",
   "metadata": {},
   "outputs": [],
   "source": [
    "x=x.casefold()"
   ]
  },
  {
   "cell_type": "code",
   "execution_count": 46,
   "id": "8dc13fc2",
   "metadata": {},
   "outputs": [
    {
     "data": {
      "text/plain": [
       "3"
      ]
     },
     "execution_count": 46,
     "metadata": {},
     "output_type": "execute_result"
    }
   ],
   "source": [
    "x.count(\"a\")"
   ]
  },
  {
   "cell_type": "code",
   "execution_count": 49,
   "id": "0fd56f32",
   "metadata": {},
   "outputs": [
    {
     "data": {
      "text/plain": [
       "8"
      ]
     },
     "execution_count": 49,
     "metadata": {},
     "output_type": "execute_result"
    }
   ],
   "source": [
    "x.find(\"de\")"
   ]
  },
  {
   "cell_type": "code",
   "execution_count": 50,
   "id": "1d4c41ac",
   "metadata": {},
   "outputs": [
    {
     "data": {
      "text/plain": [
       "'ALFONSO DE MATA ROVEY'"
      ]
     },
     "execution_count": 50,
     "metadata": {},
     "output_type": "execute_result"
    }
   ],
   "source": [
    "x.upper()"
   ]
  },
  {
   "cell_type": "code",
   "execution_count": 51,
   "id": "a8958eba",
   "metadata": {},
   "outputs": [
    {
     "data": {
      "text/plain": [
       "'alfonso de mata rovey'"
      ]
     },
     "execution_count": 51,
     "metadata": {},
     "output_type": "execute_result"
    }
   ],
   "source": [
    "x.lower()"
   ]
  },
  {
   "cell_type": "code",
   "execution_count": 58,
   "id": "4c8b0eb4",
   "metadata": {},
   "outputs": [
    {
     "data": {
      "text/plain": [
       "'Ralfonso de mata roveyEalfonso de mata roveyD'"
      ]
     },
     "execution_count": 58,
     "metadata": {},
     "output_type": "execute_result"
    }
   ],
   "source": [
    "x.join(y)"
   ]
  },
  {
   "cell_type": "code",
   "execution_count": 59,
   "id": "a76f45d9",
   "metadata": {},
   "outputs": [
    {
     "data": {
      "text/plain": [
       "'Alfonso de mAtA rovey'"
      ]
     },
     "execution_count": 59,
     "metadata": {},
     "output_type": "execute_result"
    }
   ],
   "source": [
    "x.replace(\"a\",\"A\")"
   ]
  },
  {
   "cell_type": "code",
   "execution_count": 60,
   "id": "86213503",
   "metadata": {},
   "outputs": [
    {
     "data": {
      "text/plain": [
       "['alfonso', 'de', 'mata', 'rovey']"
      ]
     },
     "execution_count": 60,
     "metadata": {},
     "output_type": "execute_result"
    }
   ],
   "source": [
    "x.split()"
   ]
  },
  {
   "cell_type": "code",
   "execution_count": 67,
   "id": "bfbd60b6",
   "metadata": {},
   "outputs": [
    {
     "name": "stdout",
     "output_type": "stream",
     "text": [
      "My fav colour is RED\n"
     ]
    }
   ],
   "source": [
    "print(f\"My fav colour is {y}\")"
   ]
  },
  {
   "cell_type": "code",
   "execution_count": 69,
   "id": "a68421e1",
   "metadata": {},
   "outputs": [
    {
     "name": "stdout",
     "output_type": "stream",
     "text": [
      "My Fav colour is RED\n"
     ]
    }
   ],
   "source": [
    "print(\"My Fav colour is \" + y)"
   ]
  },
  {
   "cell_type": "markdown",
   "id": "a1264e43",
   "metadata": {},
   "source": [
    "**Lists**\n"
   ]
  },
  {
   "cell_type": "code",
   "execution_count": 98,
   "id": "37794e48",
   "metadata": {},
   "outputs": [],
   "source": [
    "list_1 = [2,3,4,5,6,7]\n",
    "list_2 = [\"A\",\"B\",\"C\"]\n",
    "list_3 = [8,\"D\",9,\"E\"]"
   ]
  },
  {
   "cell_type": "code",
   "execution_count": 99,
   "id": "1a872e80",
   "metadata": {},
   "outputs": [
    {
     "data": {
      "text/plain": [
       "6"
      ]
     },
     "execution_count": 99,
     "metadata": {},
     "output_type": "execute_result"
    }
   ],
   "source": [
    "list_1[-2]"
   ]
  },
  {
   "cell_type": "code",
   "execution_count": 100,
   "id": "6306312c",
   "metadata": {},
   "outputs": [
    {
     "data": {
      "text/plain": [
       "int"
      ]
     },
     "execution_count": 100,
     "metadata": {},
     "output_type": "execute_result"
    }
   ],
   "source": [
    "type(list_3[2])"
   ]
  },
  {
   "cell_type": "code",
   "execution_count": 101,
   "id": "682f0ef4",
   "metadata": {},
   "outputs": [],
   "source": [
    "z = list_3[-1]"
   ]
  },
  {
   "cell_type": "code",
   "execution_count": 102,
   "id": "c7ecdb24",
   "metadata": {},
   "outputs": [
    {
     "data": {
      "text/plain": [
       "'E'"
      ]
     },
     "execution_count": 102,
     "metadata": {},
     "output_type": "execute_result"
    }
   ],
   "source": [
    "z"
   ]
  },
  {
   "cell_type": "code",
   "execution_count": 103,
   "id": "d1ed2fa4",
   "metadata": {},
   "outputs": [],
   "source": [
    "list_1[0] = 1"
   ]
  },
  {
   "cell_type": "code",
   "execution_count": 104,
   "id": "3feb4f01",
   "metadata": {},
   "outputs": [
    {
     "data": {
      "text/plain": [
       "[1, 3, 4, 5, 6, 7]"
      ]
     },
     "execution_count": 104,
     "metadata": {},
     "output_type": "execute_result"
    }
   ],
   "source": [
    "list_1"
   ]
  },
  {
   "cell_type": "code",
   "execution_count": 105,
   "id": "7afd1a1b",
   "metadata": {},
   "outputs": [],
   "source": [
    "list_1.append(2)"
   ]
  },
  {
   "cell_type": "code",
   "execution_count": 106,
   "id": "6eedb679",
   "metadata": {},
   "outputs": [],
   "source": [
    "list_1.sort()"
   ]
  },
  {
   "cell_type": "code",
   "execution_count": 107,
   "id": "3ac63bab",
   "metadata": {},
   "outputs": [
    {
     "data": {
      "text/plain": [
       "7"
      ]
     },
     "execution_count": 107,
     "metadata": {},
     "output_type": "execute_result"
    }
   ],
   "source": [
    "len(list_1)"
   ]
  },
  {
   "cell_type": "code",
   "execution_count": 108,
   "id": "e005f670",
   "metadata": {},
   "outputs": [
    {
     "data": {
      "text/plain": [
       "5"
      ]
     },
     "execution_count": 108,
     "metadata": {},
     "output_type": "execute_result"
    }
   ],
   "source": [
    "list_1.pop(4) # position or last item"
   ]
  },
  {
   "cell_type": "code",
   "execution_count": 109,
   "id": "9d749f69",
   "metadata": {},
   "outputs": [
    {
     "data": {
      "text/plain": [
       "[1, 2, 3, 4, 6, 7]"
      ]
     },
     "execution_count": 109,
     "metadata": {},
     "output_type": "execute_result"
    }
   ],
   "source": [
    "list_1"
   ]
  },
  {
   "cell_type": "code",
   "execution_count": 110,
   "id": "cbe5e74e",
   "metadata": {},
   "outputs": [],
   "source": [
    "list_1.remove(3) #extact variable or first item"
   ]
  },
  {
   "cell_type": "code",
   "execution_count": 111,
   "id": "293fe099",
   "metadata": {},
   "outputs": [],
   "source": [
    "list_2.extend(list_3)"
   ]
  },
  {
   "cell_type": "code",
   "execution_count": 112,
   "id": "cb73658b",
   "metadata": {},
   "outputs": [
    {
     "data": {
      "text/plain": [
       "['A', 'B', 'C', 8, 'D', 9, 'E']"
      ]
     },
     "execution_count": 112,
     "metadata": {},
     "output_type": "execute_result"
    }
   ],
   "source": [
    "list_2"
   ]
  },
  {
   "cell_type": "code",
   "execution_count": null,
   "id": "e3629dd0",
   "metadata": {},
   "outputs": [],
   "source": []
  }
 ],
 "metadata": {
  "kernelspec": {
   "display_name": "Python 3 (ipykernel)",
   "language": "python",
   "name": "python3"
  },
  "language_info": {
   "codemirror_mode": {
    "name": "ipython",
    "version": 3
   },
   "file_extension": ".py",
   "mimetype": "text/x-python",
   "name": "python",
   "nbconvert_exporter": "python",
   "pygments_lexer": "ipython3",
   "version": "3.9.7"
  }
 },
 "nbformat": 4,
 "nbformat_minor": 5
}
